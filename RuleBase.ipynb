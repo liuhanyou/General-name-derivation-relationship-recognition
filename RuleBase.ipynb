{
 "cells": [
  {
   "cell_type": "code",
   "execution_count": 3,
   "id": "e3050a67-7f8e-41cb-aead-0a5d2291857b",
   "metadata": {
    "execution": {
     "iopub.execute_input": "2024-08-25T08:57:41.948754Z",
     "iopub.status.busy": "2024-08-25T08:57:41.948116Z",
     "iopub.status.idle": "2024-08-25T08:57:42.274563Z",
     "shell.execute_reply": "2024-08-25T08:57:42.256318Z",
     "shell.execute_reply.started": "2024-08-25T08:57:41.948713Z"
    },
    "scrolled": true,
    "tags": []
   },
   "outputs": [],
   "source": [
    "#构造数据集\n",
    "import os\n",
    "import paddle\n",
    "from paddle.io import Dataset\n",
    "import pandas as pd\n",
    "import warnings\n",
    "warnings.filterwarnings('ignore')\n",
    "\n",
    "import json\n",
    "#读取数据\n",
    "def read_data(path):\n",
    "    with open(path, \"r\") as infile:\n",
    "        data=json.load(infile)\n",
    "    return data\n",
    "filepath = r\"./work/geo_derived_feature1.0.json\"  #dataset_dir为数据集实际路径，需要填写全路径\n",
    "data=read_data(filepath)"
   ]
  },
  {
   "cell_type": "code",
   "execution_count": 9,
   "id": "eea185b1-054e-44c2-a2e7-ea974b0a6a5a",
   "metadata": {
    "execution": {
     "iopub.execute_input": "2024-08-25T09:30:33.623169Z",
     "iopub.status.busy": "2024-08-25T09:30:33.622574Z",
     "iopub.status.idle": "2024-08-25T09:30:33.632468Z",
     "shell.execute_reply": "2024-08-25T09:30:33.631653Z",
     "shell.execute_reply.started": "2024-08-25T09:30:33.623127Z"
    },
    "scrolled": true
   },
   "outputs": [
    {
     "name": "stdout",
     "output_type": "stream",
     "text": [
      "{'source_name': 'Augusta Park', 'source_fclass': 'park', 'derived_name': 'Lincoln Park Postal Store', 'derived_fclass': 'post_office', 'topy_vec': [0.0, 0.0, 0.0, 0.0, 0.0, 0.0, 1.0, 0.0, 0.0, 0.0], 'near_vec': [1.0, 0.0], 'dif_start': [0.0, 1.0], 'dif_end': [1.0, 0.0], 'label': 0}\r\n",
      "{'source_name': 'Park Summit Trail', 'source_fclass': 'residential', 'derived_name': 'Mountain Park Drive', 'derived_fclass': 'residential', 'topy_vec': [0.0, 0.0, 0.0, 0.0, 0.0, 0.0, 1.0, 0.0, 0.0, 0.0], 'near_vec': [1.0, 0.0], 'dif_start': [0.0, 1.0], 'dif_end': [0.0, 1.0], 'label': 0}\r\n",
      "{'source_name': 'Schlagel Park', 'source_fclass': 'park', 'derived_name': 'Park Drive', 'derived_fclass': 'residential', 'topy_vec': [0.0, 0.0, 0.0, 0.0, 0.0, 0.0, 1.0, 0.0, 0.0, 0.0], 'near_vec': [1.0, 0.0], 'dif_start': [1.0, 0.0], 'dif_end': [1.0, 0.0], 'label': 0}\r\n",
      "{'source_name': 'Tampier Lake', 'source_fclass': 'water', 'derived_name': 'Oak Park Avenue', 'derived_fclass': 'residential', 'topy_vec': [0.0, 0.0, 0.0, 0.0, 0.0, 0.0, 1.0, 0.0, 0.0, 0.0], 'near_vec': [1.0, 0.0], 'dif_start': [0.0, 1.0], 'dif_end': [1.0, 0.0], 'label': 0}\r\n",
      "{'source_name': 'Park Alexandria', 'source_fclass': 'building', 'derived_name': 'The Burnham at Woodlawn Park', 'derived_fclass': 'building', 'topy_vec': [0.0, 0.0, 0.0, 0.0, 0.0, 0.0, 1.0, 0.0, 0.0, 0.0], 'near_vec': [1.0, 0.0], 'dif_start': [0.0, 1.0], 'dif_end': [1.0, 0.0], 'label': 0}\r\n",
      "{'source_name': 'Spruce Park', 'source_fclass': 'park', 'derived_name': 'Stanton Park Natatorium', 'derived_fclass': 'building', 'topy_vec': [0.0, 0.0, 0.0, 0.0, 0.0, 0.0, 1.0, 0.0, 0.0, 0.0], 'near_vec': [1.0, 0.0], 'dif_start': [0.0, 1.0], 'dif_end': [0.0, 1.0], 'label': 0}\r\n",
      "{'source_name': 'Emmerson Park Fieldhouse', 'source_fclass': 'building', 'derived_name': 'Irving Park Periodontics', 'derived_fclass': 'dentist', 'topy_vec': [0.0, 0.0, 0.0, 0.0, 0.0, 0.0, 1.0, 0.0, 0.0, 0.0], 'near_vec': [1.0, 0.0], 'dif_start': [1.0, 0.0], 'dif_end': [1.0, 0.0], 'label': 0}\r\n",
      "{'source_name': 'Pearson on the Park', 'source_fclass': 'building', 'derived_name': 'Kosciuszko Dog Park', 'derived_fclass': 'dog_park', 'topy_vec': [0.0, 0.0, 0.0, 0.0, 0.0, 0.0, 1.0, 0.0, 0.0, 0.0], 'near_vec': [1.0, 0.0], 'dif_start': [1.0, 0.0], 'dif_end': [1.0, 0.0], 'label': 0}\r\n",
      "{'source_name': 'Moshier Memorial Park', 'source_fclass': 'park', 'derived_name': 'Park And Ride Access Road', 'derived_fclass': 'service', 'topy_vec': [0.0, 0.0, 0.0, 0.0, 0.0, 0.0, 1.0, 0.0, 0.0, 0.0], 'near_vec': [1.0, 0.0], 'dif_start': [0.0, 1.0], 'dif_end': [0.0, 1.0], 'label': 0}\r\n",
      "{'source_name': 'Evergreen Park Fire Department', 'source_fclass': 'fire_station', 'derived_name': 'East Hyde Park Boulevard', 'derived_fclass': 'secondary', 'topy_vec': [0.0, 0.0, 0.0, 0.0, 0.0, 0.0, 1.0, 0.0, 0.0, 0.0], 'near_vec': [0.0, 1.0], 'dif_start': [0.0, 1.0], 'dif_end': [0.0, 1.0], 'label': 0}\r\n",
      "{'source_name': 'South Lakeview Park', 'source_fclass': 'park', 'derived_name': 'Davis Square Park Fieldhouse', 'derived_fclass': 'building', 'topy_vec': [0.0, 0.0, 0.0, 0.0, 0.0, 0.0, 1.0, 0.0, 0.0, 0.0], 'near_vec': [1.0, 0.0], 'dif_start': [1.0, 0.0], 'dif_end': [1.0, 0.0], 'label': 0}\r\n",
      "{'source_name': 'Basecamp Old Irving Park', 'source_fclass': 'residential', 'derived_name': 'Bucktown-Wicker Park Branch Library', 'derived_fclass': 'building', 'topy_vec': [0.0, 0.0, 0.0, 0.0, 0.0, 0.0, 1.0, 0.0, 0.0, 0.0], 'near_vec': [1.0, 0.0], 'dif_start': [0.0, 1.0], 'dif_end': [0.0, 1.0], 'label': 0}\r\n",
      "{'source_name': 'Douglass Park Field House', 'source_fclass': 'sports_centre', 'derived_name': 'Oak Park Village Hall', 'derived_fclass': 'town_hall', 'topy_vec': [0.0, 0.0, 0.0, 0.0, 0.0, 0.0, 1.0, 0.0, 0.0, 0.0], 'near_vec': [1.0, 0.0], 'dif_start': [0.0, 1.0], 'dif_end': [1.0, 0.0], 'label': 0}\r\n",
      "{'source_name': 'Avondale Park Fieldhouse', 'source_fclass': 'building', 'derived_name': 'Eugenie Terrace on the Park', 'derived_fclass': 'building', 'topy_vec': [0.0, 0.0, 0.0, 0.0, 0.0, 0.0, 1.0, 0.0, 0.0, 0.0], 'near_vec': [1.0, 0.0], 'dif_start': [0.0, 1.0], 'dif_end': [1.0, 0.0], 'label': 0}\r\n",
      "{'source_name': 'Student Parking', 'source_fclass': 'parking', 'derived_name': 'Parkside', 'derived_fclass': 'residential', 'topy_vec': [0.0, 0.0, 0.0, 0.0, 0.0, 0.0, 1.0, 0.0, 0.0, 0.0], 'near_vec': [1.0, 0.0], 'dif_start': [0.0, 1.0], 'dif_end': [0.0, 1.0], 'label': 0}\r\n",
      "{'source_name': 'Great Lakes Drive', 'source_fclass': 'residential', 'derived_name': 'Willow Lawn Memorial Park / Aarrowood Pet Cemetery', 'derived_fclass': 'cemetery', 'topy_vec': [0.0, 0.0, 0.0, 0.0, 0.0, 0.0, 1.0, 0.0, 0.0, 0.0], 'near_vec': [1.0, 0.0], 'dif_start': [0.0, 1.0], 'dif_end': [0.0, 1.0], 'label': 0}\r\n",
      "{'source_name': 'LaFollette Park Fieldhouse', 'source_fclass': 'building', 'derived_name': 'Elmwood Park Parks & Recreation Department', 'derived_fclass': 'building', 'topy_vec': [0.0, 0.0, 0.0, 0.0, 0.0, 0.0, 1.0, 0.0, 0.0, 0.0], 'near_vec': [1.0, 0.0], 'dif_start': [1.0, 0.0], 'dif_end': [1.0, 0.0], 'label': 0}\r\n",
      "{'source_name': 'Dvorak Park Fieldhouse', 'source_fclass': 'sports_centre', 'derived_name': 'The Grant at Woodlawn Park', 'derived_fclass': 'building', 'topy_vec': [0.0, 0.0, 0.0, 0.0, 0.0, 0.0, 1.0, 0.0, 0.0, 0.0], 'near_vec': [1.0, 0.0], 'dif_start': [0.0, 1.0], 'dif_end': [1.0, 0.0], 'label': 0}\r\n",
      "{'source_name': 'Sammamish Bluffs Residents Park', 'source_fclass': 'park', 'derived_name': 'Park 12 Townhomes', 'derived_fclass': 'residential', 'topy_vec': [0.0, 0.0, 0.0, 0.0, 0.0, 0.0, 1.0, 0.0, 0.0, 0.0], 'near_vec': [1.0, 0.0], 'dif_start': [0.0, 1.0], 'dif_end': [1.0, 0.0], 'label': 0}\r\n",
      "{'source_name': 'Sammamish Cove Park', 'source_fclass': 'park', 'derived_name': 'Park West at Somerset', 'derived_fclass': 'residential', 'topy_vec': [0.0, 0.0, 0.0, 0.0, 0.0, 0.0, 1.0, 0.0, 0.0, 0.0], 'near_vec': [1.0, 0.0], 'dif_start': [0.0, 1.0], 'dif_end': [1.0, 0.0], 'label': 0}\r\n",
      "{'source_name': 'Riverside Avenue', 'source_fclass': 'residential', 'derived_name': 'Veterans Memorial Park', 'derived_fclass': 'playground', 'topy_vec': [0.0, 0.0, 0.0, 0.0, 0.0, 0.0, 1.0, 0.0, 0.0, 0.0], 'near_vec': [1.0, 0.0], 'dif_start': [0.0, 1.0], 'dif_end': [1.0, 0.0], 'label': 0}\r\n",
      "{'source_name': 'UPS Bedford Park', 'source_fclass': 'building', 'derived_name': 'Cornell Square Park Fieldhouse', 'derived_fclass': 'sports_centre', 'topy_vec': [0.0, 0.0, 0.0, 0.0, 0.0, 0.0, 1.0, 0.0, 0.0, 0.0], 'near_vec': [1.0, 0.0], 'dif_start': [0.0, 1.0], 'dif_end': [0.0, 1.0], 'label': 0}\r\n",
      "{'source_name': 'West Park Academy of Fine Arts', 'source_fclass': 'school', 'derived_name': 'Pearson on the Park', 'derived_fclass': 'building', 'topy_vec': [0.0, 0.0, 0.0, 0.0, 0.0, 0.0, 1.0, 0.0, 0.0, 0.0], 'near_vec': [1.0, 0.0], 'dif_start': [1.0, 0.0], 'dif_end': [1.0, 0.0], 'label': 0}\r\n",
      "{'source_name': 'Lake Trail Drive', 'source_fclass': 'residential', 'derived_name': 'North Park Street', 'derived_fclass': 'residential', 'topy_vec': [0.0, 0.0, 0.0, 0.0, 0.0, 0.0, 1.0, 0.0, 0.0, 0.0], 'near_vec': [1.0, 0.0], 'dif_start': [0.0, 1.0], 'dif_end': [1.0, 0.0], 'label': 0}\r\n",
      "{'source_name': 'Fairview Memorial Park', 'source_fclass': 'graveyard', 'derived_name': 'Hanson Park Elementary School', 'derived_fclass': 'school', 'topy_vec': [0.0, 0.0, 0.0, 0.0, 0.0, 0.0, 1.0, 0.0, 0.0, 0.0], 'near_vec': [1.0, 0.0], 'dif_start': [1.0, 0.0], 'dif_end': [1.0, 0.0], 'label': 0}\r\n",
      "{'source_name': 'Central Park Blvd & 5th Ave', 'source_fclass': 'bicycle_rental', 'derived_name': 'WVAZ-FM (Oak Park)', 'derived_fclass': 'tower', 'topy_vec': [0.0, 0.0, 0.0, 0.0, 0.0, 0.0, 1.0, 0.0, 0.0, 0.0], 'near_vec': [1.0, 0.0], 'dif_start': [0.0, 1.0], 'dif_end': [0.0, 1.0], 'label': 0}\r\n",
      "{'source_name': 'Arts & Recreation Center at Ellis Park', 'source_fclass': 'community_centre', 'derived_name': 'Montclare Senior Residences of Avalon Park', 'derived_fclass': 'building', 'topy_vec': [0.0, 0.0, 0.0, 0.0, 0.0, 0.0, 1.0, 0.0, 0.0, 0.0], 'near_vec': [1.0, 0.0], 'dif_start': [0.0, 1.0], 'dif_end': [0.0, 1.0], 'label': 0}\r\n",
      "{'source_name': 'Wood Oaks Green Park', 'source_fclass': 'park', 'derived_name': 'Park Ridge Country Club', 'derived_fclass': 'golf_course', 'topy_vec': [0.0, 0.0, 0.0, 0.0, 0.0, 0.0, 1.0, 0.0, 0.0, 0.0], 'near_vec': [1.0, 0.0], 'dif_start': [0.0, 1.0], 'dif_end': [0.0, 1.0], 'label': 0}\r\n",
      "{'source_name': 'Humboldt Park Stables', 'source_fclass': 'building', 'derived_name': 'Forest Park Tap Room', 'derived_fclass': 'bar', 'topy_vec': [0.0, 0.0, 0.0, 0.0, 0.0, 0.0, 1.0, 0.0, 0.0, 0.0], 'near_vec': [1.0, 0.0], 'dif_start': [1.0, 0.0], 'dif_end': [1.0, 0.0], 'label': 0}\r\n",
      "{'source_name': 'Kent Covenant Church Park & Ride', 'source_fclass': 'parking', 'derived_name': 'Parkside Way Southeast', 'derived_fclass': 'residential', 'topy_vec': [0.0, 0.0, 0.0, 0.0, 0.0, 0.0, 1.0, 0.0, 0.0, 0.0], 'near_vec': [1.0, 0.0], 'dif_start': [1.0, 0.0], 'dif_end': [1.0, 0.0], 'label': 0}\r\n",
      "{'source_name': 'Martin Park', 'source_fclass': 'park', 'derived_name': 'Beverly Park General Baptist Church', 'derived_fclass': 'building', 'topy_vec': [0.0, 0.0, 0.0, 0.0, 0.0, 0.0, 1.0, 0.0, 0.0, 0.0], 'near_vec': [1.0, 0.0], 'dif_start': [0.0, 1.0], 'dif_end': [0.0, 1.0], 'label': 0}\r\n",
      "{'source_name': 'Wicker Park Lofts', 'source_fclass': 'building', 'derived_name': 'Washington Park Fieldhouse', 'derived_fclass': 'building', 'topy_vec': [0.0, 0.0, 0.0, 0.0, 0.0, 0.0, 1.0, 0.0, 0.0, 0.0], 'near_vec': [1.0, 0.0], 'dif_start': [0.0, 1.0], 'dif_end': [1.0, 0.0], 'label': 0}\r\n",
      "{'source_name': 'Lake/Wells Self Park', 'source_fclass': 'building', 'derived_name': 'Terraces of Dearborn Park', 'derived_fclass': 'building', 'topy_vec': [0.0, 0.0, 0.0, 0.0, 0.0, 0.0, 1.0, 0.0, 0.0, 0.0], 'near_vec': [1.0, 0.0], 'dif_start': [0.0, 1.0], 'dif_end': [1.0, 0.0], 'label': 0}\r\n",
      "{'source_name': 'Wallingford Triangle Park', 'source_fclass': 'park', 'derived_name': 'Seward Park Road', 'derived_fclass': 'residential', 'topy_vec': [0.0, 0.0, 0.0, 0.0, 0.0, 0.0, 1.0, 0.0, 0.0, 0.0], 'near_vec': [1.0, 0.0], 'dif_start': [0.0, 1.0], 'dif_end': [0.0, 1.0], 'label': 0}\r\n",
      "{'source_name': 'Ridgewood Park', 'source_fclass': 'park', 'derived_name': 'Indian Head Park Heritage Center Library', 'derived_fclass': 'library', 'topy_vec': [0.0, 0.0, 0.0, 0.0, 0.0, 0.0, 1.0, 0.0, 0.0, 0.0], 'near_vec': [1.0, 0.0], 'dif_start': [1.0, 0.0], 'dif_end': [1.0, 0.0], 'label': 0}\r\n",
      "{'source_name': 'Rucker Hill Park', 'source_fclass': 'park', 'derived_name': 'Park Avenue', 'derived_fclass': 'residential', 'topy_vec': [0.0, 0.0, 0.0, 0.0, 0.0, 0.0, 1.0, 0.0, 0.0, 0.0], 'near_vec': [1.0, 0.0], 'dif_start': [0.0, 1.0], 'dif_end': [1.0, 0.0], 'label': 0}\r\n",
      "{'source_name': 'Lakey Gap Acres', 'source_fclass': 'residential', 'derived_name': 'Valley View Memorial Park', 'derived_fclass': 'graveyard', 'topy_vec': [0.0, 0.0, 0.0, 0.0, 0.0, 0.0, 1.0, 0.0, 0.0, 0.0], 'near_vec': [1.0, 0.0], 'dif_start': [0.0, 1.0], 'dif_end': [0.0, 1.0], 'label': 0}\r\n",
      "{'source_name': 'East Park Avenue', 'source_fclass': 'residential', 'derived_name': 'Vista Park', 'derived_fclass': 'residential', 'topy_vec': [0.0, 0.0, 0.0, 0.0, 0.0, 0.0, 1.0, 0.0, 0.0, 0.0], 'near_vec': [1.0, 0.0], 'dif_start': [0.0, 1.0], 'dif_end': [0.0, 1.0], 'label': 0}\r\n",
      "{'source_name': 'Richard J. Daley Park', 'source_fclass': 'park', 'derived_name': 'Carroll Park Playground', 'derived_fclass': 'tourist_info', 'topy_vec': [0.0, 0.0, 0.0, 0.0, 0.0, 0.0, 1.0, 0.0, 0.0, 0.0], 'near_vec': [1.0, 0.0], 'dif_start': [0.0, 1.0], 'dif_end': [0.0, 1.0], 'label': 0}\r\n",
      "{'source_name': 'Peach Creek Park', 'source_fclass': 'park', 'derived_name': 'Park Avenue', 'derived_fclass': 'residential', 'topy_vec': [0.0, 0.0, 0.0, 0.0, 0.0, 0.0, 1.0, 0.0, 0.0, 0.0], 'near_vec': [1.0, 0.0], 'dif_start': [0.0, 1.0], 'dif_end': [1.0, 0.0], 'label': 0}\r\n",
      "{'source_name': 'Buena Circle Park', 'source_fclass': 'park', 'derived_name': 'Green Briar Park Fieldhouse', 'derived_fclass': 'sports_centre', 'topy_vec': [0.0, 0.0, 0.0, 0.0, 0.0, 0.0, 1.0, 0.0, 0.0, 0.0], 'near_vec': [1.0, 0.0], 'dif_start': [0.0, 1.0], 'dif_end': [0.0, 1.0], 'label': 0}\r\n",
      "{'source_name': 'William Grose Park', 'source_fclass': 'park', 'derived_name': 'South Kirkland Park and Ride', 'derived_fclass': 'parking', 'topy_vec': [0.0, 0.0, 0.0, 0.0, 0.0, 0.0, 1.0, 0.0, 0.0, 0.0], 'near_vec': [1.0, 0.0], 'dif_start': [0.0, 1.0], 'dif_end': [1.0, 0.0], 'label': 0}\r\n",
      "{'source_name': 'LaFollette Park Fieldhouse', 'source_fclass': 'sports_centre', 'derived_name': 'Walton on the Park', 'derived_fclass': 'building', 'topy_vec': [0.0, 0.0, 0.0, 0.0, 0.0, 0.0, 1.0, 0.0, 0.0, 0.0], 'near_vec': [1.0, 0.0], 'dif_start': [0.0, 1.0], 'dif_end': [1.0, 0.0], 'label': 0}\r\n",
      "{'source_name': 'Hale Park Fieldhouse', 'source_fclass': 'building', 'derived_name': 'Oak Park Public Library Adele H. Maze Branch', 'derived_fclass': 'building', 'topy_vec': [0.0, 0.0, 0.0, 0.0, 0.0, 0.0, 1.0, 0.0, 0.0, 0.0], 'near_vec': [1.0, 0.0], 'dif_start': [0.0, 1.0], 'dif_end': [1.0, 0.0], 'label': 0}\r\n",
      "{'source_name': 'Arbor View Park', 'source_fclass': 'park', 'derived_name': 'RIdgemoor Park Path', 'derived_fclass': 'path', 'topy_vec': [0.0, 0.0, 0.0, 0.0, 0.0, 0.0, 1.0, 0.0, 0.0, 0.0], 'near_vec': [1.0, 0.0], 'dif_start': [0.0, 1.0], 'dif_end': [0.0, 1.0], 'label': 0}\r\n",
      "{'source_name': 'Park East Townhomes', 'source_fclass': 'residential', 'derived_name': 'McAuliffe Park Pea Patch', 'derived_fclass': 'allotments', 'topy_vec': [0.0, 0.0, 0.0, 0.0, 0.0, 0.0, 1.0, 0.0, 0.0, 0.0], 'near_vec': [1.0, 0.0], 'dif_start': [0.0, 1.0], 'dif_end': [0.0, 1.0], 'label': 0}\r\n",
      "{'source_name': 'Terrace View Park', 'source_fclass': 'park', 'derived_name': 'Melrose Park Post Office', 'derived_fclass': 'building', 'topy_vec': [0.0, 0.0, 0.0, 0.0, 0.0, 0.0, 1.0, 0.0, 0.0, 0.0], 'near_vec': [1.0, 0.0], 'dif_start': [0.0, 1.0], 'dif_end': [0.0, 1.0], 'label': 0}\r\n",
      "{'source_name': 'Holstein Park Fieldhouse', 'source_fclass': 'building', 'derived_name': 'South Lake Park Avenue', 'derived_fclass': 'residential', 'topy_vec': [0.0, 0.0, 0.0, 0.0, 0.0, 0.0, 1.0, 0.0, 0.0, 0.0], 'near_vec': [1.0, 0.0], 'dif_start': [1.0, 0.0], 'dif_end': [1.0, 0.0], 'label': 0}\r\n",
      "{'source_name': 'Landeen Park', 'source_fclass': 'park', 'derived_name': 'Parkside Drive', 'derived_fclass': 'residential', 'topy_vec': [0.0, 0.0, 0.0, 0.0, 0.0, 0.0, 1.0, 0.0, 0.0, 0.0], 'near_vec': [1.0, 0.0], 'dif_start': [1.0, 0.0], 'dif_end': [1.0, 0.0], 'label': 0}\r\n",
      "{'source_name': 'Parkside Terraces', 'source_fclass': 'building', 'derived_name': 'Peterson Park Field House', 'derived_fclass': 'sports_centre', 'topy_vec': [0.0, 0.0, 0.0, 0.0, 0.0, 0.0, 1.0, 0.0, 0.0, 0.0], 'near_vec': [1.0, 0.0], 'dif_start': [0.0, 1.0], 'dif_end': [0.0, 1.0], 'label': 0}\r\n",
      "{'source_name': 'Hoag Memorial Park (Big Rock)', 'source_fclass': 'park', 'derived_name': 'Hawthorne Lawn Cemetery Park', 'derived_fclass': 'service', 'topy_vec': [0.0, 0.0, 0.0, 0.0, 0.0, 0.0, 1.0, 0.0, 0.0, 0.0], 'near_vec': [1.0, 0.0], 'dif_start': [0.0, 1.0], 'dif_end': [1.0, 0.0], 'label': 0}\r\n",
      "{'source_name': 'Park Tower Condominiums', 'source_fclass': 'building', 'derived_name': 'Horner Park Comfort Station', 'derived_fclass': 'building', 'topy_vec': [0.0, 0.0, 0.0, 0.0, 0.0, 0.0, 1.0, 0.0, 0.0, 0.0], 'near_vec': [1.0, 0.0], 'dif_start': [0.0, 1.0], 'dif_end': [0.0, 1.0], 'label': 0}\r\n",
      "{'source_name': 'McKinley Park Branch Library', 'source_fclass': 'building', 'derived_name': 'Grant Park North Garage (Exit)', 'derived_fclass': 'service', 'topy_vec': [0.0, 0.0, 0.0, 0.0, 0.0, 0.0, 1.0, 0.0, 0.0, 0.0], 'near_vec': [1.0, 0.0], 'dif_start': [0.0, 1.0], 'dif_end': [0.0, 1.0], 'label': 0}\r\n",
      "{'source_name': 'Lowe Park Fieldhouse', 'source_fclass': 'sports_centre', 'derived_name': 'Park Alexandria', 'derived_fclass': 'building', 'topy_vec': [0.0, 0.0, 0.0, 0.0, 0.0, 0.0, 1.0, 0.0, 0.0, 0.0], 'near_vec': [1.0, 0.0], 'dif_start': [0.0, 1.0], 'dif_end': [0.0, 1.0], 'label': 0}\r\n",
      "{'source_name': 'Sunken Gardens Park', 'source_fclass': 'park', 'derived_name': 'Mid-North Park', 'derived_fclass': 'recreation_ground', 'topy_vec': [0.0, 0.0, 0.0, 0.0, 0.0, 0.0, 1.0, 0.0, 0.0, 0.0], 'near_vec': [1.0, 0.0], 'dif_start': [0.0, 1.0], 'dif_end': [0.0, 1.0], 'label': 0}\r\n",
      "{'source_name': 'Grand Park', 'source_fclass': 'park', 'derived_name': 'Columbus Park Fieldhouse', 'derived_fclass': 'building', 'topy_vec': [0.0, 0.0, 0.0, 0.0, 0.0, 0.0, 1.0, 0.0, 0.0, 0.0], 'near_vec': [1.0, 0.0], 'dif_start': [1.0, 0.0], 'dif_end': [1.0, 0.0], 'label': 0}\r\n",
      "{'source_name': 'McKinley Park', 'source_fclass': 'park', 'derived_name': 'Wicker Park Commons', 'derived_fclass': 'retail', 'topy_vec': [0.0, 0.0, 0.0, 0.0, 0.0, 0.0, 1.0, 0.0, 0.0, 0.0], 'near_vec': [1.0, 0.0], 'dif_start': [0.0, 1.0], 'dif_end': [0.0, 1.0], 'label': 0}\r\n",
      "{'source_name': 'Saint Francis Park', 'source_fclass': 'park', 'derived_name': 'Park Road to Air Field', 'derived_fclass': 'service', 'topy_vec': [0.0, 0.0, 0.0, 0.0, 0.0, 0.0, 1.0, 0.0, 0.0, 0.0], 'near_vec': [1.0, 0.0], 'dif_start': [0.0, 1.0], 'dif_end': [0.0, 1.0], 'label': 0}\r\n",
      "{'source_name': 'Forest Park Public Library', 'source_fclass': 'library', 'derived_name': 'Melrose Park Water Tower', 'derived_fclass': 'water_tower', 'topy_vec': [0.0, 0.0, 0.0, 0.0, 0.0, 0.0, 1.0, 0.0, 0.0, 0.0], 'near_vec': [1.0, 0.0], 'dif_start': [0.0, 1.0], 'dif_end': [1.0, 0.0], 'label': 0}\r\n",
      "{'source_name': 'Fox Park', 'source_fclass': 'park', 'derived_name': 'Harrison Park Culture and Recreation Center', 'derived_fclass': 'sports_centre', 'topy_vec': [0.0, 0.0, 0.0, 0.0, 0.0, 0.0, 1.0, 0.0, 0.0, 0.0], 'near_vec': [1.0, 0.0], 'dif_start': [0.0, 1.0], 'dif_end': [0.0, 1.0], 'label': 0}\r\n",
      "{'source_name': 'Versailes Parkway', 'source_fclass': 'residential', 'derived_name': 'Phillips Zoo Park', 'derived_fclass': 'monument', 'topy_vec': [0.0, 0.0, 0.0, 0.0, 0.0, 0.0, 1.0, 0.0, 0.0, 0.0], 'near_vec': [1.0, 0.0], 'dif_start': [0.0, 1.0], 'dif_end': [0.0, 1.0], 'label': 0}\r\n",
      "{'source_name': 'South Lee Parkway', 'source_fclass': 'service', 'derived_name': 'Parkside', 'derived_fclass': 'residential', 'topy_vec': [0.0, 0.0, 0.0, 0.0, 0.0, 0.0, 1.0, 0.0, 0.0, 0.0], 'near_vec': [1.0, 0.0], 'dif_start': [0.0, 1.0], 'dif_end': [0.0, 1.0], 'label': 0}\r\n",
      "{'source_name': 'East Lakeshore Drive', 'source_fclass': 'secondary', 'derived_name': 'Park Drive', 'derived_fclass': 'residential', 'topy_vec': [0.0, 0.0, 0.0, 0.0, 0.0, 0.0, 1.0, 0.0, 0.0, 0.0], 'near_vec': [1.0, 0.0], 'dif_start': [1.0, 0.0], 'dif_end': [1.0, 0.0], 'label': 0}\r\n",
      "{'source_name': 'Dobson-Brummel Park', 'source_fclass': 'park', 'derived_name': 'Edison Park Fieldhouse', 'derived_fclass': 'sports_centre', 'topy_vec': [0.0, 0.0, 0.0, 0.0, 0.0, 0.0, 1.0, 0.0, 0.0, 0.0], 'near_vec': [1.0, 0.0], 'dif_start': [0.0, 1.0], 'dif_end': [1.0, 0.0], 'label': 0}\r\n",
      "{'source_name': 'Northshire Park', 'source_fclass': 'park', 'derived_name': 'Dawg Park', 'derived_fclass': 'restaurant', 'topy_vec': [0.0, 0.0, 0.0, 0.0, 0.0, 0.0, 1.0, 0.0, 0.0, 0.0], 'near_vec': [1.0, 0.0], 'dif_start': [0.0, 1.0], 'dif_end': [1.0, 0.0], 'label': 0}\r\n",
      "{'source_name': 'Maple Hills Park', 'source_fclass': 'park', 'derived_name': 'Summit Park Way Southeast', 'derived_fclass': 'residential', 'topy_vec': [0.0, 0.0, 0.0, 0.0, 0.0, 0.0, 1.0, 0.0, 0.0, 0.0], 'near_vec': [1.0, 0.0], 'dif_start': [0.0, 1.0], 'dif_end': [0.0, 1.0], 'label': 0}\r\n",
      "{'source_name': 'Columbus Manor Park', 'source_fclass': 'park', 'derived_name': 'Beverly Park Fieldhouse', 'derived_fclass': 'building', 'topy_vec': [0.0, 0.0, 0.0, 0.0, 0.0, 0.0, 1.0, 0.0, 0.0, 0.0], 'near_vec': [1.0, 0.0], 'dif_start': [0.0, 1.0], 'dif_end': [0.0, 1.0], 'label': 0}\r\n",
      "{'source_name': 'Lake Avenue', 'source_fclass': 'primary', 'derived_name': 'Lincoln Elementary School - Highland Park', 'derived_fclass': 'building', 'topy_vec': [0.0, 0.0, 0.0, 0.0, 0.0, 0.0, 1.0, 0.0, 0.0, 0.0], 'near_vec': [1.0, 0.0], 'dif_start': [1.0, 0.0], 'dif_end': [1.0, 0.0], 'label': 0}\r\n",
      "{'source_name': 'Big Rock Park Central', 'source_fclass': 'park', 'derived_name': 'Ashland Park', 'derived_fclass': 'residential', 'topy_vec': [0.0, 0.0, 0.0, 0.0, 0.0, 0.0, 1.0, 0.0, 0.0, 0.0], 'near_vec': [1.0, 0.0], 'dif_start': [0.0, 1.0], 'dif_end': [0.0, 1.0], 'label': 0}\r\n",
      "{'source_name': 'Sabal Park Drive', 'source_fclass': 'residential', 'derived_name': 'Park Road', 'derived_fclass': 'residential', 'topy_vec': [0.0, 0.0, 0.0, 0.0, 0.0, 0.0, 1.0, 0.0, 0.0, 0.0], 'near_vec': [1.0, 0.0], 'dif_start': [0.0, 1.0], 'dif_end': [0.0, 1.0], 'label': 0}\r\n",
      "{'source_name': 'Lakemont Boulevard Southeast', 'source_fclass': 'primary', 'derived_name': 'Park Place North', 'derived_fclass': 'service', 'topy_vec': [0.0, 0.0, 0.0, 0.0, 0.0, 0.0, 1.0, 0.0, 0.0, 0.0], 'near_vec': [1.0, 0.0], 'dif_start': [0.0, 1.0], 'dif_end': [1.0, 0.0], 'label': 0}\r\n",
      "{'source_name': 'Central Park & Augusta Blvd', 'source_fclass': 'bicycle_rental', 'derived_name': 'Franklin-Lake Self Park', 'derived_fclass': 'building', 'topy_vec': [0.0, 0.0, 0.0, 0.0, 0.0, 0.0, 1.0, 0.0, 0.0, 0.0], 'near_vec': [1.0, 0.0], 'dif_start': [1.0, 0.0], 'dif_end': [1.0, 0.0], 'label': 0}\r\n",
      "{'source_name': 'Douglass Park Field House', 'source_fclass': 'sports_centre', 'derived_name': 'Oak Park Village Hall', 'derived_fclass': 'town_hall', 'topy_vec': [0.0, 0.0, 0.0, 0.0, 0.0, 0.0, 1.0, 0.0, 0.0, 0.0], 'near_vec': [1.0, 0.0], 'dif_start': [0.0, 1.0], 'dif_end': [1.0, 0.0], 'label': 0}\r\n",
      "{'source_name': 'Parklake Drive', 'source_fclass': 'residential', 'derived_name': 'Park Boulevard', 'derived_fclass': 'residential', 'topy_vec': [0.0, 0.0, 0.0, 0.0, 0.0, 0.0, 1.0, 0.0, 0.0, 0.0], 'near_vec': [1.0, 0.0], 'dif_start': [0.0, 1.0], 'dif_end': [0.0, 1.0], 'label': 0}\r\n",
      "{'source_name': 'Lake Reba Reservoir', 'source_fclass': 'reservoir', 'derived_name': 'Renton Bible Church Park & Ride', 'derived_fclass': 'parking', 'topy_vec': [0.0, 0.0, 0.0, 0.0, 0.0, 0.0, 1.0, 0.0, 0.0, 0.0], 'near_vec': [1.0, 0.0], 'dif_start': [1.0, 0.0], 'dif_end': [0.0, 1.0], 'label': 0}\r\n",
      "{'source_name': 'Wantz Park', 'source_fclass': 'park', 'derived_name': 'Blackhawk Park', 'derived_fclass': 'nature_reserve', 'topy_vec': [0.0, 0.0, 0.0, 0.0, 0.0, 0.0, 1.0, 0.0, 0.0, 0.0], 'near_vec': [1.0, 0.0], 'dif_start': [0.0, 1.0], 'dif_end': [0.0, 1.0], 'label': 0}\r\n",
      "{'source_name': 'Ashmore Park', 'source_fclass': 'park', 'derived_name': 'WIlson Skate Park', 'derived_fclass': 'pitch', 'topy_vec': [0.0, 0.0, 0.0, 0.0, 0.0, 0.0, 1.0, 0.0, 0.0, 0.0], 'near_vec': [1.0, 0.0], 'dif_start': [0.0, 1.0], 'dif_end': [0.0, 1.0], 'label': 0}\r\n",
      "{'source_name': 'Carolshire Park', 'source_fclass': 'park', 'derived_name': 'Glenbrook Park Playground', 'derived_fclass': 'playground', 'topy_vec': [0.0, 0.0, 0.0, 0.0, 0.0, 0.0, 1.0, 0.0, 0.0, 0.0], 'near_vec': [1.0, 0.0], 'dif_start': [0.0, 1.0], 'dif_end': [0.0, 1.0], 'label': 0}\r\n",
      "{'source_name': 'Jean Baldwin Memorial Skate Park', 'source_fclass': 'pitch', 'derived_name': 'Cedar Park', 'derived_fclass': 'residential', 'topy_vec': [0.0, 0.0, 0.0, 0.0, 0.0, 0.0, 1.0, 0.0, 0.0, 0.0], 'near_vec': [1.0, 0.0], 'dif_start': [0.0, 1.0], 'dif_end': [0.0, 1.0], 'label': 0}\r\n",
      "{'source_name': 'Republic Parking', 'source_fclass': 'parking', 'derived_name': 'Jackson Park P-Patch', 'derived_fclass': 'allotments', 'topy_vec': [0.0, 0.0, 0.0, 0.0, 0.0, 0.0, 1.0, 0.0, 0.0, 0.0], 'near_vec': [1.0, 0.0], 'dif_start': [0.0, 1.0], 'dif_end': [0.0, 1.0], 'label': 0}\r\n",
      "{'source_name': 'Sunset Park', 'source_fclass': 'park', 'derived_name': 'Forest Park Court North', 'derived_fclass': 'residential', 'topy_vec': [0.0, 0.0, 0.0, 0.0, 0.0, 0.0, 1.0, 0.0, 0.0, 0.0], 'near_vec': [1.0, 0.0], 'dif_start': [0.0, 1.0], 'dif_end': [1.0, 0.0], 'label': 0}\r\n",
      "{'source_name': 'Linden Park', 'source_fclass': 'park', 'derived_name': 'Lakewood Memorial Park', 'derived_fclass': 'cemetery', 'topy_vec': [0.0, 0.0, 0.0, 0.0, 0.0, 0.0, 1.0, 0.0, 0.0, 0.0], 'near_vec': [1.0, 0.0], 'dif_start': [0.0, 1.0], 'dif_end': [0.0, 1.0], 'label': 0}\r\n",
      "{'source_name': 'Park No. 592', 'source_fclass': 'dog_park', 'derived_name': 'Replay Lincoln Park', 'derived_fclass': 'pub', 'topy_vec': [0.0, 0.0, 0.0, 0.0, 0.0, 0.0, 1.0, 0.0, 0.0, 0.0], 'near_vec': [1.0, 0.0], 'dif_start': [0.0, 1.0], 'dif_end': [0.0, 1.0], 'label': 0}\r\n",
      "{'source_name': 'Festival Park', 'source_fclass': 'park', 'derived_name': 'Coast Guard Park Trail', 'derived_fclass': 'footway', 'topy_vec': [0.0, 0.0, 0.0, 0.0, 0.0, 0.0, 1.0, 0.0, 0.0, 0.0], 'near_vec': [1.0, 0.0], 'dif_start': [0.0, 1.0], 'dif_end': [0.0, 1.0], 'label': 0}\r\n",
      "{'source_name': 'Robinsglen Nature Park', 'source_fclass': 'park', 'derived_name': 'Seward Park Avenue South', 'derived_fclass': 'secondary', 'topy_vec': [0.0, 0.0, 0.0, 0.0, 0.0, 0.0, 1.0, 0.0, 0.0, 0.0], 'near_vec': [1.0, 0.0], 'dif_start': [0.0, 1.0], 'dif_end': [0.0, 1.0], 'label': 0}\r\n",
      "{'source_name': 'Camberly Park', 'source_fclass': 'park', 'derived_name': 'West Park Boulevard', 'derived_fclass': 'residential', 'topy_vec': [0.0, 0.0, 0.0, 0.0, 0.0, 0.0, 1.0, 0.0, 0.0, 0.0], 'near_vec': [1.0, 0.0], 'dif_start': [1.0, 0.0], 'dif_end': [1.0, 0.0], 'label': 0}\r\n",
      "{'source_name': \"O'Fallon City Park\", 'source_fclass': 'park', 'derived_name': 'Glidden Park Pavilion', 'derived_fclass': 'building', 'topy_vec': [0.0, 0.0, 0.0, 0.0, 0.0, 0.0, 1.0, 0.0, 0.0, 0.0], 'near_vec': [1.0, 0.0], 'dif_start': [0.0, 1.0], 'dif_end': [0.0, 1.0], 'label': 0}\r\n",
      "{'source_name': 'Parkside Way Southeast', 'source_fclass': 'residential', 'derived_name': 'Aster Park', 'derived_fclass': 'residential', 'topy_vec': [0.0, 0.0, 0.0, 0.0, 0.0, 0.0, 1.0, 0.0, 0.0, 0.0], 'near_vec': [1.0, 0.0], 'dif_start': [0.0, 1.0], 'dif_end': [1.0, 0.0], 'label': 0}\r\n",
      "{'source_name': 'Cicero Irving Park Dental', 'source_fclass': 'dentist', 'derived_name': 'Oak Park Fire Department Station #3', 'derived_fclass': 'fire_station', 'topy_vec': [0.0, 0.0, 0.0, 0.0, 0.0, 0.0, 1.0, 0.0, 0.0, 0.0], 'near_vec': [1.0, 0.0], 'dif_start': [0.0, 1.0], 'dif_end': [0.0, 1.0], 'label': 0}\r\n",
      "{'source_name': 'Rivermist Court', 'source_fclass': 'residential', 'derived_name': 'Hyde Park Lane', 'derived_fclass': 'residential', 'topy_vec': [0.0, 0.0, 0.0, 0.0, 0.0, 0.0, 1.0, 0.0, 0.0, 0.0], 'near_vec': [1.0, 0.0], 'dif_start': [1.0, 0.0], 'dif_end': [1.0, 0.0], 'label': 0}\r\n",
      "{'source_name': 'Ridgegate Park', 'source_fclass': 'park', 'derived_name': 'Oak Park Avenue', 'derived_fclass': 'tertiary', 'topy_vec': [0.0, 0.0, 0.0, 0.0, 0.0, 0.0, 1.0, 0.0, 0.0, 0.0], 'near_vec': [1.0, 0.0], 'dif_start': [0.0, 1.0], 'dif_end': [0.0, 1.0], 'label': 0}\r\n",
      "{'source_name': 'Sammamish River', 'source_fclass': 'river', 'derived_name': 'Woodland Park BMX Dirt Jumps', 'derived_fclass': 'recreation_ground', 'topy_vec': [0.0, 0.0, 0.0, 0.0, 0.0, 0.0, 1.0, 0.0, 0.0, 0.0], 'near_vec': [0.0, 1.0], 'dif_start': [0.0, 1.0], 'dif_end': [1.0, 0.0], 'label': 0}\r\n",
      "{'source_name': 'Clyde Park', 'source_fclass': 'park', 'derived_name': 'LCHC at Garfield Park FamilyPlex', 'derived_fclass': 'clinic', 'topy_vec': [0.0, 0.0, 0.0, 0.0, 0.0, 0.0, 1.0, 0.0, 0.0, 0.0], 'near_vec': [1.0, 0.0], 'dif_start': [0.0, 1.0], 'dif_end': [0.0, 1.0], 'label': 0}\r\n",
      "{'source_name': 'Richey Park', 'source_fclass': 'park', 'derived_name': 'Eberhart Park Foot Bridge', 'derived_fclass': 'footway', 'topy_vec': [0.0, 0.0, 0.0, 0.0, 0.0, 0.0, 1.0, 0.0, 0.0, 0.0], 'near_vec': [1.0, 0.0], 'dif_start': [1.0, 0.0], 'dif_end': [1.0, 0.0], 'label': 0}\r\n",
      "{'source_name': 'Hazelnut Park', 'source_fclass': 'park', 'derived_name': 'Smith Park Fieldhouse', 'derived_fclass': 'sports_centre', 'topy_vec': [0.0, 0.0, 0.0, 0.0, 0.0, 0.0, 1.0, 0.0, 0.0, 0.0], 'near_vec': [1.0, 0.0], 'dif_start': [0.0, 1.0], 'dif_end': [1.0, 0.0], 'label': 0}\r\n",
      "{'source_name': 'Brighton Park Community Bank', 'source_fclass': 'building', 'derived_name': 'Dearborn Park', 'derived_fclass': 'residential', 'topy_vec': [0.0, 0.0, 0.0, 0.0, 0.0, 0.0, 1.0, 0.0, 0.0, 0.0], 'near_vec': [1.0, 0.0], 'dif_start': [1.0, 0.0], 'dif_end': [1.0, 0.0], 'label': 0}\r\n",
      "{'source_name': 'Oriole Park School Annex', 'source_fclass': 'building', 'derived_name': 'Wicker Park Lutheran Church', 'derived_fclass': 'building', 'topy_vec': [0.0, 0.0, 0.0, 0.0, 0.0, 0.0, 1.0, 0.0, 0.0, 0.0], 'near_vec': [1.0, 0.0], 'dif_start': [1.0, 0.0], 'dif_end': [1.0, 0.0], 'label': 0}\r\n",
      "{'source_name': 'Palos Park Woods North Picnic Shelter Grove 1', 'source_fclass': 'building', 'derived_name': 'Evergreen Park Fire Department', 'derived_fclass': 'building', 'topy_vec': [0.0, 0.0, 0.0, 0.0, 0.0, 0.0, 1.0, 0.0, 0.0, 0.0], 'near_vec': [1.0, 0.0], 'dif_start': [0.0, 1.0], 'dif_end': [1.0, 0.0], 'label': 0}\r\n",
      "{'source_name': 'Marian R. Byrnes Park', 'source_fclass': 'nature_reserve', 'derived_name': 'Glendale Park', 'derived_fclass': 'residential', 'topy_vec': [0.0, 0.0, 0.0, 0.0, 0.0, 0.0, 1.0, 0.0, 0.0, 0.0], 'near_vec': [1.0, 0.0], 'dif_start': [0.0, 1.0], 'dif_end': [0.0, 1.0], 'label': 0}\r\n",
      "{'source_name': 'Richard R. Rossi Park', 'source_fclass': 'park', 'derived_name': 'Pulaski Park Fieldhouse', 'derived_fclass': 'sports_centre', 'topy_vec': [0.0, 0.0, 0.0, 0.0, 0.0, 0.0, 1.0, 0.0, 0.0, 0.0], 'near_vec': [1.0, 0.0], 'dif_start': [0.0, 1.0], 'dif_end': [0.0, 1.0], 'label': 0}\r\n"
     ]
    }
   ],
   "source": [
    "postive=[ v for v in data if v['label']==0]\r\n",
    "for v in postive[:100]:\r\n",
    "    print(v)"
   ]
  },
  {
   "cell_type": "code",
   "execution_count": 2,
   "id": "10ccb8f0-2b04-4409-8866-7f9ebc6c8d96",
   "metadata": {
    "execution": {
     "iopub.execute_input": "2024-08-22T08:28:00.477520Z",
     "iopub.status.busy": "2024-08-22T08:28:00.476944Z",
     "iopub.status.idle": "2024-08-22T08:28:00.501479Z",
     "shell.execute_reply": "2024-08-22T08:28:00.500776Z",
     "shell.execute_reply.started": "2024-08-22T08:28:00.477491Z"
    },
    "scrolled": true,
    "tags": []
   },
   "outputs": [],
   "source": [
    "#添加地名形态拓扑关系\n",
    "def add_name_topy(dataset):\n",
    "    new_dataset=[]\n",
    "    for v in dataset:\n",
    "        topy_vec=v['topy_vec']\n",
    "        near_vec=v['near_vec']\n",
    "        dif_start=v['dif_start']\n",
    "        dif_end=v['dif_end']\n",
    "        source_fclass=v['source_fclass']\n",
    "        derived_fclass=v['derived_fclass']\n",
    "        source_name=v['source_name']\n",
    "        derived_name=v['derived_name']\n",
    "        label=v['label']\n",
    "        #添加地名拓扑关系\n",
    "        if source_name!=derived_name:\n",
    "            name_topy=set(derived_name.split(' '))&set(source_name.split(' '))\n",
    "            if len(name_topy)==0:   \n",
    "                topy='Disjoint'\n",
    "            elif name_topy==set(source_name.split(' ')):\n",
    "                topy='Within'\n",
    "            else:\n",
    "                topy=\"Intersect\"\n",
    "        v['morphological_topology']=topy\n",
    "        new_dataset.append(v)\n",
    "    return new_dataset\n",
    "new_dataset=add_name_topy(data)"
   ]
  },
  {
   "cell_type": "code",
   "execution_count": null,
   "id": "21aa0cd8-6b6e-46c8-9454-5ecb29afb0b2",
   "metadata": {
    "scrolled": true
   },
   "outputs": [],
   "source": []
  },
  {
   "cell_type": "code",
   "execution_count": 3,
   "id": "f0075e23-c494-4f12-9069-b1d28c8723e1",
   "metadata": {
    "execution": {
     "iopub.execute_input": "2024-08-22T08:28:00.503548Z",
     "iopub.status.busy": "2024-08-22T08:28:00.502658Z",
     "iopub.status.idle": "2024-08-22T08:28:00.586580Z",
     "shell.execute_reply": "2024-08-22T08:28:00.585662Z",
     "shell.execute_reply.started": "2024-08-22T08:28:00.503510Z"
    },
    "scrolled": true,
    "tags": []
   },
   "outputs": [],
   "source": [
    "#基于地学统计的通名派生关系实验\n",
    "topy_list=[\"Intersect\",'Crosses', 'Touches','Within','Contains','Overlaps','Disjoint']\n",
    "near_list=['no_near','near']\n",
    "dif_time=['<0','>0']\n",
    "def predict(dataset):\n",
    "    new_dataset=[]\n",
    "    for v in dataset:\n",
    "        topy_vec=v['topy_vec']\n",
    "        near_vec=v['near_vec']\n",
    "        dif_start=v['dif_start']\n",
    "        dif_end=v['dif_end']\n",
    "        source_fclass=v['source_fclass']\n",
    "        derived_fclass=v['derived_fclass']\n",
    "        source_name=v['source_name']\n",
    "        derived_name=v['derived_name']\n",
    "        label=v['label']\n",
    "        #获取地名拓扑特征\n",
    "        morphological_topy=v['morphological_topology']\n",
    "        #获取拓扑特征\n",
    "        topy=[ i for i in range(len(topy_vec)) if topy_vec[i]!=0]\n",
    "        topy_word=[ topy_list[v] for v in topy]\n",
    "        #获取邻近特征\n",
    "        near=[ i for i in range(len(near_vec)) if near_vec[i]!=0]\n",
    "        near_word=[ near_list[v] for v in near]\n",
    "        #获取时间特征\n",
    "        start=[ i for i in range(len(dif_start)) if dif_start[i]!=0 ]\n",
    "        dif_start_sign=[ dif_time[i] for i in  start]\n",
    "        end=[ i for i in range(len(dif_end)) if dif_end[i]!=0 ]\n",
    "        dif_end_sign=[ dif_time[i] for i in  end]\n",
    "        newlabel=0\n",
    "        label=v['label']\n",
    "        if source_name!=derived_name:\n",
    "            #river->*派生模式\n",
    "            if source_fclass=='river':\n",
    "                derivedWord=['Riverview','Riverside','River',\n",
    "                'Rivers', 'Riverwalk','Riverbank','Riverway',\n",
    "                'Riverboat','Riverward']\n",
    "                source_geo=['River','Rivers']\n",
    "                topy=[\"Intersect\",'Crosses', 'Touches','Disjoint']\n",
    "                #规则1\n",
    "                dif1=set(source_name.split(' '))&set(source_geo)\n",
    "                dif2=set(derived_name.split(' '))&set(derivedWord)\n",
    "                dif_topy=set(topy)&set(topy_word)\n",
    "                if len(dif1)!=0 and len(dif2)!=0 and len(dif_topy)!=0 and near_word==['near'] and dif_start_sign==['<0'] and dif_end_sign==['>0']:\n",
    "                    #地名拓扑关系\n",
    "                    if morphological_topy!='Within':\n",
    "                       newlabel=1\n",
    "                v['label']=newlabel\n",
    "            # #lalke->*\n",
    "            if source_fclass=='lake':\n",
    "                derivedWord=['Lakeview','Lakes','Lakeside','Lakeshore',\\\n",
    "                            'Laker','Lakefront','Lakeport',\\\n",
    "                            'Lake','Lakelet','Lakelets']\n",
    "                source_geo=['Lake','Lakes']\n",
    "                topy=[\"Intersect\",'Crosses', 'Touches','Disjoint']\n",
    "                #规则1\n",
    "                dif1=set(source_name.split(' '))&set(source_geo)\n",
    "                dif2=set(derived_name.split(' '))&set(derivedWord)\n",
    "                dif_topy=set(topy)&set(topy_word)\n",
    "                if len(dif1)!=0 and len(dif2)!=0 and len(dif_topy)!=0 and near_word==['near'] and dif_start_sign==['<0'] and dif_end_sign==['>0']:\n",
    "                    #地名拓扑关系\n",
    "                    if morphological_topy!='Within':\n",
    "                       newlabel=1\n",
    "                v['label']=newlabel\n",
    "            # #park->*\n",
    "            if source_fclass=='park':\n",
    "                derivedWord=['Park','Parkland','Parks','Parkside']\n",
    "                source_geo=['Park','Parks']\n",
    "                topy=[\"Intersect\",'Crosses', 'Touches','Within','Contains','Overlaps']\n",
    "                #规则1\n",
    "                dif1=set(source_name.split(' '))&set(source_geo)\n",
    "                dif2=set(derived_name.split(' '))&set(derivedWord)\n",
    "                dif_topy=set(topy)&set(topy_word)\n",
    "                if len(dif1)!=0 and len(dif2)!=0 and len(dif_topy)!=0 and near_word==['near'] and dif_start_sign==['<0'] and  dif_end_sign==['>0']:\n",
    "                    #地名拓扑关系\n",
    "                    if morphological_topy!='Within':\n",
    "                       newlabel=1\n",
    "                v['label']=newlabel\n",
    "            new_dataset.append(v)\n",
    "    return  new_dataset\n",
    "dataset=predict(new_dataset)"
   ]
  },
  {
   "cell_type": "code",
   "execution_count": 4,
   "id": "24b648e8-3f62-4ba3-8ecb-1ae52c7fadd3",
   "metadata": {
    "execution": {
     "iopub.execute_input": "2024-08-22T08:28:00.605611Z",
     "iopub.status.busy": "2024-08-22T08:28:00.604378Z",
     "iopub.status.idle": "2024-08-22T08:28:00.620741Z",
     "shell.execute_reply": "2024-08-22T08:28:00.619419Z",
     "shell.execute_reply.started": "2024-08-22T08:28:00.605548Z"
    },
    "scrolled": true
   },
   "outputs": [
    {
     "name": "stdout",
     "output_type": "stream",
     "text": [
      "2620\r\n",
      "6410\r\n"
     ]
    }
   ],
   "source": [
    "postive_dataset=[v for v in dataset if v['label']==1]\n",
    "negtive_dataset=[v for v in dataset if v['label']==0]\n",
    "print(len(postive_dataset))\n",
    "print(len(negtive_dataset)) "
   ]
  },
  {
   "cell_type": "code",
   "execution_count": 5,
   "id": "0347deef-8d0b-4b72-a33b-6246fb8789fe",
   "metadata": {
    "execution": {
     "iopub.execute_input": "2024-08-22T08:28:00.622980Z",
     "iopub.status.busy": "2024-08-22T08:28:00.622371Z",
     "iopub.status.idle": "2024-08-22T08:28:00.628143Z",
     "shell.execute_reply": "2024-08-22T08:28:00.627278Z",
     "shell.execute_reply.started": "2024-08-22T08:28:00.622944Z"
    },
    "scrolled": true
   },
   "outputs": [],
   "source": [
    "# #上采样\n",
    "# num=int(len(negtive_dataset)/len(postive_dataset))\n",
    "# postive_dataset1=num*postive_dataset\n",
    "# print(len(postive_dataset1))\n",
    "# n=len(negtive_dataset)-len(postive_dataset1)\n",
    "# print(n)\n",
    "# postive_sapmle2=random.sample(postive_dataset,n)\n",
    "# postive_sapmle3=postive_sapmle2+postive_dataset1\n",
    "# dataset=postive_sapmle3+negtive_dataset\n",
    "# print(len(postive_sapmle3),len(negtive_dataset))\n",
    "# print(len(dataset))"
   ]
  },
  {
   "cell_type": "code",
   "execution_count": 6,
   "id": "03e39340-a5e8-4fd9-86a5-cf8e45af7d00",
   "metadata": {
    "execution": {
     "iopub.execute_input": "2024-08-22T08:28:00.629618Z",
     "iopub.status.busy": "2024-08-22T08:28:00.629329Z",
     "iopub.status.idle": "2024-08-22T08:28:00.637238Z",
     "shell.execute_reply": "2024-08-22T08:28:00.636308Z",
     "shell.execute_reply.started": "2024-08-22T08:28:00.629595Z"
    },
    "scrolled": true
   },
   "outputs": [],
   "source": [
    "#构建时间关系负例\n",
    "#构建时间关系负例\n",
    "import random\n",
    "\n",
    "negtive2=random.sample(postive_dataset,262)\n",
    "\n",
    "negtive3=[]\n",
    "for v in negtive2:\n",
    "    random_number = random.random()\n",
    "    v['label']=0\n",
    "    if random_number>0.5:\n",
    "       v['dif_start']=[0.0,1.0]\n",
    "    else:\n",
    "       v['dif_end']=[1.0,0.0]    \n",
    "    negtive3.append(v)"
   ]
  },
  {
   "cell_type": "code",
   "execution_count": 7,
   "id": "3592b7b8-f0d7-46fb-a786-e42bc6880e0e",
   "metadata": {
    "execution": {
     "iopub.execute_input": "2024-08-22T08:28:00.638859Z",
     "iopub.status.busy": "2024-08-22T08:28:00.638451Z",
     "iopub.status.idle": "2024-08-22T08:28:00.645903Z",
     "shell.execute_reply": "2024-08-22T08:28:00.644869Z",
     "shell.execute_reply.started": "2024-08-22T08:28:00.638835Z"
    },
    "scrolled": true
   },
   "outputs": [
    {
     "name": "stdout",
     "output_type": "stream",
     "text": [
      "2358\r\n"
     ]
    }
   ],
   "source": [
    "#下采样\n",
    "import random\n",
    "negtive_dataset1=random.sample(negtive_dataset,2358)\n",
    "print(len(negtive_dataset1))"
   ]
  },
  {
   "cell_type": "code",
   "execution_count": 8,
   "id": "38e8a30b-86c1-40c6-be90-54b632fe104f",
   "metadata": {
    "execution": {
     "iopub.execute_input": "2024-08-22T08:28:00.647942Z",
     "iopub.status.busy": "2024-08-22T08:28:00.647459Z",
     "iopub.status.idle": "2024-08-22T08:28:00.653247Z",
     "shell.execute_reply": "2024-08-22T08:28:00.652263Z",
     "shell.execute_reply.started": "2024-08-22T08:28:00.647916Z"
    },
    "scrolled": true
   },
   "outputs": [
    {
     "name": "stdout",
     "output_type": "stream",
     "text": [
      "5240\r\n"
     ]
    }
   ],
   "source": [
    "#拼接正样本与负样本\n",
    "dataset=postive_dataset+negtive_dataset1+negtive3\n",
    "print(len(dataset))"
   ]
  },
  {
   "cell_type": "code",
   "execution_count": 9,
   "id": "511251e7-b2a4-4bb0-b0ba-7516e2dc86fb",
   "metadata": {
    "execution": {
     "iopub.execute_input": "2024-08-22T08:28:00.655129Z",
     "iopub.status.busy": "2024-08-22T08:28:00.654799Z",
     "iopub.status.idle": "2024-08-22T08:28:00.658755Z",
     "shell.execute_reply": "2024-08-22T08:28:00.658037Z",
     "shell.execute_reply.started": "2024-08-22T08:28:00.655106Z"
    },
    "scrolled": true
   },
   "outputs": [],
   "source": [
    "# #下采样\n",
    "# import random\n",
    "# negtive_dataset1=random.sample(negtive_dataset,len(postive_dataset))\n",
    "# dataset=negtive_dataset1+postive_dataset\n",
    "# print(len(dataset))\n"
   ]
  },
  {
   "cell_type": "code",
   "execution_count": 10,
   "id": "eed3e1f6-64bb-4398-b4a4-1591ec1b82f2",
   "metadata": {
    "execution": {
     "iopub.execute_input": "2024-08-22T08:28:00.661616Z",
     "iopub.status.busy": "2024-08-22T08:28:00.661247Z",
     "iopub.status.idle": "2024-08-22T08:28:01.430833Z",
     "shell.execute_reply": "2024-08-22T08:28:01.429665Z",
     "shell.execute_reply.started": "2024-08-22T08:28:00.661590Z"
    },
    "scrolled": true
   },
   "outputs": [
    {
     "name": "stdout",
     "output_type": "stream",
     "text": [
      "tran_dataset size 4192 val_dataset size 1048\r\n"
     ]
    }
   ],
   "source": [
    "#划分训练集与测试集\n",
    "from sklearn.model_selection import train_test_split\n",
    "#划分训练、验证、测试数据集\n",
    "train_dataset,test_dataset=train_test_split(dataset,train_size=0.8,random_state=34,shuffle=True)\n",
    "print('tran_dataset size',len(train_dataset),'val_dataset size',len(test_dataset))\n",
    "\n",
    "# test_dataset=test_dataset\n",
    "# print('test',len(test_dataset))\n"
   ]
  },
  {
   "cell_type": "code",
   "execution_count": 11,
   "id": "1bf8223c-1b26-4c97-8043-030fc2089e5e",
   "metadata": {
    "execution": {
     "iopub.execute_input": "2024-08-22T08:28:01.433272Z",
     "iopub.status.busy": "2024-08-22T08:28:01.432506Z",
     "iopub.status.idle": "2024-08-22T08:28:01.469636Z",
     "shell.execute_reply": "2024-08-22T08:28:01.468739Z",
     "shell.execute_reply.started": "2024-08-22T08:28:01.433225Z"
    },
    "scrolled": true,
    "tags": []
   },
   "outputs": [],
   "source": [
    "#保存数据\n",
    "import pickle\n",
    "def save_data(filepath,data):\n",
    "    with open(filepath,'wb') as f :\n",
    "         pickle.dump(data,f)\n",
    "    return\n",
    "    \n",
    "def read_data(filepath):\n",
    "    with open(filepath,'rb') as f :\n",
    "         data=pickle.load(f)\n",
    "    return data\n",
    "# filepath=r'/home/aistudio/work/geo_derived_feature.pickle' \n",
    "# save_data(filepath,train_dataset)\n",
    "# filepath=r'/home/aistudio/work/test.pickle' \n",
    "# save_data(filepath,test_dataset)"
   ]
  },
  {
   "cell_type": "code",
   "execution_count": 12,
   "id": "e8d4fd4f-6190-4ef9-84a0-89e3786be4f8",
   "metadata": {
    "execution": {
     "iopub.execute_input": "2024-08-22T08:28:01.471688Z",
     "iopub.status.busy": "2024-08-22T08:28:01.471008Z",
     "iopub.status.idle": "2024-08-22T08:28:01.495423Z",
     "shell.execute_reply": "2024-08-22T08:28:01.494516Z",
     "shell.execute_reply.started": "2024-08-22T08:28:01.471659Z"
    },
    "scrolled": true,
    "tags": []
   },
   "outputs": [
    {
     "name": "stdout",
     "output_type": "stream",
     "text": [
      "286\r\n",
      "1048\r\n"
     ]
    }
   ],
   "source": [
    " #基于语义空间关系标注数据\n",
    "import random\n",
    "\n",
    "#datalist=random.sample(datalist,2837)\n",
    "def predict(data):\n",
    "    predlist=[]\n",
    "    count=0\n",
    "    for v in data:\n",
    "        topy_vec=v['topy_vec']\n",
    "        near_vec=v['near_vec']\n",
    "        dif_start=v['dif_start']\n",
    "        dif_end=v['dif_end']\n",
    "        source_fclass=v['source_fclass']\n",
    "        derived_fclass=v['derived_fclass']\n",
    "        source_name=v['source_name']\n",
    "        derived_name=v['derived_name']\n",
    "        label=v['label']\n",
    "        #获取地名拓扑特征\n",
    "        morphological_topy=v['morphological_topology']\n",
    "        #获取拓扑特征\n",
    "        topy=[ i for i in range(len(topy_vec)) if topy_vec[i]!=0]\n",
    "        topy_word=[ topy_list[v] for v in topy]\n",
    "        #获取邻近特征\n",
    "        near=[ i for i in range(len(near_vec)) if near_vec[i]!=0]\n",
    "        near_word=[ near_list[v] for v in near]\n",
    "        #获取时间特征\n",
    "        start=[ i for i in range(len(dif_start)) if dif_start[i]!=0 ]\n",
    "        dif_start_sign=[ dif_time[i] for i in  start]\n",
    "        end=[ i for i in range(len(dif_end)) if dif_end[i]!=0 ]\n",
    "        dif_end_sign=[ dif_time[i] for i in  end]\n",
    "        label=v['label']\n",
    "        preds=0\n",
    "        #river->*派生模式\n",
    "        v['pred']=label\n",
    "        if source_fclass=='river':\n",
    "            derivedWord=['River']\n",
    "            source_geo=['River']\n",
    "            topy=[\"Intersect\",'Crosses', 'Touches','Disjoint']\n",
    "            #规则1\n",
    "            dif1=set(source_name.split(' '))&set(source_geo)\n",
    "            dif2=set(derived_name.split(' '))&set(derivedWord)\n",
    "            dif_topy=set(topy)&set(topy_word)\n",
    "            if len(dif1)!=0 and len(dif2)!=0 and len(dif_topy)!=0 and near_word==['near'] :\n",
    "                    #地名拓扑关系\n",
    "                    preds=1\n",
    "            v['pred']=preds\n",
    "        #lalke->*\n",
    "        if source_fclass=='lake':\n",
    "            derivedWord=['Lakes','Lake']\n",
    "            source_geo=['Lake','Lakes']\n",
    "            topy=[\"Intersect\",'Crosses', 'Touches','Disjoint']\n",
    "            #规则1\n",
    "            dif1=set(source_name.split(' '))&set(source_geo)\n",
    "            dif2=set(derived_name.split(' '))&set(derivedWord)\n",
    "            dif_topy=set(topy)&set(topy_word)\n",
    "            if len(dif1)!=0 and len(dif2)!=0 and len(dif_topy)!=0 and  near_word==['near'] :\n",
    "                preds=1\n",
    "            v['pred']=preds\n",
    "        #park->*\n",
    "        if source_fclass=='park':\n",
    "            derivedWord=['Park']\n",
    "            source_geo=['Park']\n",
    "            topy=[\"Intersect\",'Crosses', 'Touches','Within','Contains','Overlaps']\n",
    "            #规则1\n",
    "            dif1=set(source_name.split(' '))&set(source_geo)\n",
    "            dif2=set(derived_name.split(' '))&set(derivedWord)\n",
    "            dif_topy=set(topy)&set(topy_word)\n",
    "            if len(dif1)!=0 and len(dif2)!=0 and len(dif_topy)!=0 and near_word==['near']:\n",
    "                preds=1\n",
    "            v['pred']=preds\n",
    "        if label!=preds:\n",
    "            count+=1\n",
    "        predlist.append(v)\n",
    "    print(count)\n",
    "    return predlist\n",
    "test_pred=predict(test_dataset)\n",
    "print(len(test_dataset))\n"
   ]
  },
  {
   "cell_type": "code",
   "execution_count": 13,
   "id": "8866726f-cede-46ad-8f9f-3b200e40af7a",
   "metadata": {
    "execution": {
     "iopub.execute_input": "2024-08-22T08:28:01.497092Z",
     "iopub.status.busy": "2024-08-22T08:28:01.496734Z",
     "iopub.status.idle": "2024-08-22T08:28:01.501772Z",
     "shell.execute_reply": "2024-08-22T08:28:01.500891Z",
     "shell.execute_reply.started": "2024-08-22T08:28:01.497066Z"
    },
    "scrolled": true
   },
   "outputs": [],
   "source": [
    "labels=[ v['label'] for v in test_pred]\n",
    "preds=[ v['pred'] for v in test_pred]\n"
   ]
  },
  {
   "cell_type": "code",
   "execution_count": 14,
   "id": "7a0bb1a7-910c-4f85-8c61-67a50d3fe3bd",
   "metadata": {
    "execution": {
     "iopub.execute_input": "2024-08-22T08:28:01.503650Z",
     "iopub.status.busy": "2024-08-22T08:28:01.502857Z",
     "iopub.status.idle": "2024-08-22T08:28:01.527298Z",
     "shell.execute_reply": "2024-08-22T08:28:01.526102Z",
     "shell.execute_reply.started": "2024-08-22T08:28:01.503614Z"
    },
    "scrolled": true,
    "tags": []
   },
   "outputs": [
    {
     "name": "stdout",
     "output_type": "stream",
     "text": [
      "0.7270992366412213 0.7512262626179403 0.7270992366412213 0.7258454446476095\r\n"
     ]
    }
   ],
   "source": [
    "# #计算评价指标\n",
    "from sklearn.metrics import accuracy_score, precision_score, recall_score, f1_score\n",
    "accuracy=accuracy_score(labels, preds)\n",
    "precision=precision_score(labels, preds, average='weighted')\n",
    "recall=recall_score(labels, preds, average='weighted')\n",
    "f1=f1_score(labels, preds, average='weighted') \n",
    "print(accuracy,precision,recall,f1)\n",
    "metric={'accuracy':accuracy,'precision':precision,'recall':recall,'f1':f1}"
   ]
  },
  {
   "cell_type": "code",
   "execution_count": null,
   "id": "d59163d5-7ef2-4cbe-a22f-5bdec53922a2",
   "metadata": {
    "scrolled": true
   },
   "outputs": [],
   "source": []
  }
 ],
 "metadata": {
  "kernelspec": {
   "display_name": "Python 3",
   "language": "python",
   "name": "py35-paddle1.2.0"
  },
  "language_info": {
   "codemirror_mode": {
    "name": "ipython",
    "version": 3
   },
   "file_extension": ".py",
   "mimetype": "text/x-python",
   "name": "python",
   "nbconvert_exporter": "python",
   "pygments_lexer": "ipython3",
   "version": "3.10.10"
  }
 },
 "nbformat": 4,
 "nbformat_minor": 5
}
